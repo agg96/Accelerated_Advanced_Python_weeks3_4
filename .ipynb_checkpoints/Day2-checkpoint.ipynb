{
 "cells": [
  {
   "cell_type": "markdown",
   "metadata": {},
   "source": [
    "# Day 2 | Mathematical and logics operations on matrices\n",
    "\n",
    "Today we will cover basic and advanced math operations in NumPy that includes sum, multiplication, vector operations, trigonometric functions etc...\n"
   ]
  },
  {
   "cell_type": "markdown",
   "metadata": {},
   "source": [
    "### Vectorized operations on matrices\n",
    "\n",
    "NumPy provides a convenient interface for many operation that require fast iterations or looping . This is known as a vectorized operation. This can be accomplished by simply performing an operation on the array, which will then be applied to each element. This vectorized approach is designed to push the loop into the compiled layer that underlies NumPy, leading to much faster execution.\n",
    "\n",
    "Let have a look on the classic loop in Python and its speed:\n"
   ]
  },
  {
   "cell_type": "code",
   "execution_count": 1,
   "metadata": {},
   "outputs": [
    {
     "name": "stdout",
     "output_type": "stream",
     "text": [
      "440 µs ± 8.44 µs per loop (mean ± std. dev. of 7 runs, 1000 loops each)\n"
     ]
    }
   ],
   "source": [
    "import numpy as np\n",
    "\n",
    "def simple_loop(values):\n",
    "    output = np.empty(len(values)) \n",
    "    for i in range(len(values)):\n",
    "        output[i] = 1.0 / values[i] #bites #not impotant \n",
    "    return output\n",
    "\n",
    "\n",
    "x = np.linspace(1,10,1000)\n",
    "#tarda mucho no hacer\n",
    "%timeit simple_loop(x)"
   ]
  },
  {
   "cell_type": "markdown",
   "metadata": {},
   "source": [
    "Now, we try vectorized operation on a big matrix:"
   ]
  },
  {
   "cell_type": "code",
   "execution_count": 2,
   "metadata": {},
   "outputs": [
    {
     "name": "stdout",
     "output_type": "stream",
     "text": [
      "7.27 µs ± 214 ns per loop (mean ± std. dev. of 7 runs, 100000 loops each)\n"
     ]
    }
   ],
   "source": [
    "%timeit (1.0 / x)"
   ]
  },
  {
   "cell_type": "markdown",
   "metadata": {},
   "source": [
    "We are faster by nearly 3 orders of magnitude!@@@"
   ]
  },
  {
   "cell_type": "markdown",
   "metadata": {},
   "source": [
    "### Exploring NumPy's Functions\n",
    "\n",
    "NumPy functions exist in two flavors: *unary*, which operate on a single input, and *binary*, which operate on two inputs.\n",
    "We'll see examples of both these types of functions are presented here:"
   ]
  },
  {
   "cell_type": "code",
   "execution_count": null,
   "metadata": {},
   "outputs": [],
   "source": [
    "x = np.linspace(1,10,10)\n",
    "print(\"Do Nothing =\", x)\n",
    "print(\"Add =\", x + 5)\n",
    "print(\"Substract =\", x - 5)\n",
    "print(\"Multiply =\", x * 2)\n",
    "print(\"Divide =\", x / 2)\n",
    "print(\"Floor divide =\", x // 2)  # floor division #buscar qué es"
   ]
  },
  {
   "cell_type": "markdown",
   "metadata": {},
   "source": [
    "Other important math operations include:"
   ]
  },
  {
   "cell_type": "code",
   "execution_count": null,
   "metadata": {},
   "outputs": [],
   "source": [
    "print(\"negation     = \", -x)\n",
    "print(\"power = \", x ** 2)\n",
    "print(\"modulus  = \", x % 2)"
   ]
  },
  {
   "cell_type": "markdown",
   "metadata": {},
   "source": [
    "The following table lists the arithmetic operators implemented in NumPy:\n",
    "\n",
    "| Operator\t    | Equivalent ufunc    | Description                           |\n",
    "|---------------|---------------------|---------------------------------------|\n",
    "|``+``          |``np.add``           |Addition (e.g., ``1 + 1 = 2``)         |\n",
    "|``-``          |``np.subtract``      |Subtraction (e.g., ``3 - 2 = 1``)      |\n",
    "|``-``          |``np.negative``      |Unary negation (e.g., ``-2``)          |\n",
    "|``*``          |``np.multiply``      |Multiplication (e.g., ``2 * 3 = 6``)   |\n",
    "|``/``          |``np.divide``        |Division (e.g., ``3 / 2 = 1.5``)       |\n",
    "|``//``         |``np.floor_divide``  |Floor division (e.g., ``3 // 2 = 1``)  |\n",
    "|``**``         |``np.power``         |Exponentiation (e.g., ``2 ** 3 = 8``)  |\n",
    "|``%``          |``np.mod``           |Modulus/remainder (e.g., ``9 % 4 = 1``)|\n"
   ]
  },
  {
   "cell_type": "markdown",
   "metadata": {},
   "source": [
    "We can combine operations and perform linear equation calculations as follows:\n"
   ]
  },
  {
   "cell_type": "code",
   "execution_count": 3,
   "metadata": {},
   "outputs": [],
   "source": [
    "result = -(0.5*x + 1) ** np.sqrt(2)"
   ]
  },
  {
   "cell_type": "code",
   "execution_count": 4,
   "metadata": {},
   "outputs": [
    {
     "data": {
      "text/plain": [
       "array([ -1.77431468,  -1.78185468,  -1.78940404,  -1.79696273,\n",
       "        -1.80453075,  -1.81210808,  -1.8196947 ,  -1.82729059,\n",
       "        -1.83489575,  -1.84251015,  -1.85013377,  -1.85776661,\n",
       "        -1.86540864,  -1.87305986,  -1.88072024,  -1.88838977,\n",
       "        -1.89606843,  -1.90375621,  -1.9114531 ,  -1.91915907,\n",
       "        -1.92687412,  -1.93459823,  -1.94233137,  -1.95007355,\n",
       "        -1.95782474,  -1.96558493,  -1.97335411,  -1.98113225,\n",
       "        -1.98891935,  -1.99671538,  -2.00452035,  -2.01233422,\n",
       "        -2.02015699,  -2.02798865,  -2.03582917,  -2.04367854,\n",
       "        -2.05153676,  -2.0594038 ,  -2.06727966,  -2.07516431,\n",
       "        -2.08305775,  -2.09095995,  -2.09887092,  -2.10679063,\n",
       "        -2.11471906,  -2.12265622,  -2.13060207,  -2.13855661,\n",
       "        -2.14651983,  -2.15449171,  -2.16247224,  -2.17046141,\n",
       "        -2.1784592 ,  -2.1864656 ,  -2.19448059,  -2.20250417,\n",
       "        -2.21053631,  -2.21857702,  -2.22662627,  -2.23468405,\n",
       "        -2.24275035,  -2.25082515,  -2.25890845,  -2.26700023,\n",
       "        -2.27510048,  -2.28320918,  -2.29132633,  -2.29945191,\n",
       "        -2.30758591,  -2.31572831,  -2.32387911,  -2.33203829,\n",
       "        -2.34020584,  -2.34838175,  -2.356566  ,  -2.36475859,\n",
       "        -2.37295949,  -2.38116871,  -2.38938623,  -2.39761203,\n",
       "        -2.4058461 ,  -2.41408844,  -2.42233903,  -2.43059786,\n",
       "        -2.43886491,  -2.44714018,  -2.45542366,  -2.46371533,\n",
       "        -2.47201518,  -2.4803232 ,  -2.48863938,  -2.4969637 ,\n",
       "        -2.50529616,  -2.51363675,  -2.52198545,  -2.53034226,\n",
       "        -2.53870715,  -2.54708013,  -2.55546117,  -2.56385028,\n",
       "        -2.57224743,  -2.58065261,  -2.58906583,  -2.59748706,\n",
       "        -2.60591629,  -2.61435352,  -2.62279873,  -2.63125191,\n",
       "        -2.63971305,  -2.64818214,  -2.65665918,  -2.66514414,\n",
       "        -2.67363703,  -2.68213782,  -2.69064651,  -2.69916309,\n",
       "        -2.70768755,  -2.71621987,  -2.72476005,  -2.73330808,\n",
       "        -2.74186395,  -2.75042764,  -2.75899916,  -2.76757847,\n",
       "        -2.77616559,  -2.78476049,  -2.79336316,  -2.80197361,\n",
       "        -2.81059181,  -2.81921776,  -2.82785144,  -2.83649285,\n",
       "        -2.84514198,  -2.85379882,  -2.86246336,  -2.87113558,\n",
       "        -2.87981549,  -2.88850306,  -2.89719829,  -2.90590118,\n",
       "        -2.9146117 ,  -2.92332986,  -2.93205563,  -2.94078902,\n",
       "        -2.94953002,  -2.9582786 ,  -2.96703477,  -2.97579852,\n",
       "        -2.98456983,  -2.9933487 ,  -3.00213512,  -3.01092907,\n",
       "        -3.01973055,  -3.02853956,  -3.03735607,  -3.04618009,\n",
       "        -3.0550116 ,  -3.06385059,  -3.07269706,  -3.081551  ,\n",
       "        -3.09041239,  -3.09928123,  -3.10815751,  -3.11704122,\n",
       "        -3.12593235,  -3.1348309 ,  -3.14373685,  -3.1526502 ,\n",
       "        -3.16157093,  -3.17049904,  -3.17943452,  -3.18837737,\n",
       "        -3.19732756,  -3.2062851 ,  -3.21524998,  -3.22422218,\n",
       "        -3.2332017 ,  -3.24218853,  -3.25118267,  -3.2601841 ,\n",
       "        -3.26919281,  -3.2782088 ,  -3.28723206,  -3.29626257,\n",
       "        -3.30530034,  -3.31434536,  -3.32339761,  -3.33245709,\n",
       "        -3.34152378,  -3.35059769,  -3.3596788 ,  -3.36876711,\n",
       "        -3.3778626 ,  -3.38696527,  -3.39607512,  -3.40519212,\n",
       "        -3.41431628,  -3.42344759,  -3.43258604,  -3.44173162,\n",
       "        -3.45088432,  -3.46004414,  -3.46921107,  -3.47838509,\n",
       "        -3.48756621,  -3.49675441,  -3.50594969,  -3.51515204,\n",
       "        -3.52436145,  -3.53357792,  -3.54280143,  -3.55203197,\n",
       "        -3.56126955,  -3.57051416,  -3.57976578,  -3.58902441,\n",
       "        -3.59829003,  -3.60756266,  -3.61684226,  -3.62612885,\n",
       "        -3.63542241,  -3.64472293,  -3.65403041,  -3.66334484,\n",
       "        -3.67266621,  -3.68199451,  -3.69132974,  -3.70067189,\n",
       "        -3.71002095,  -3.71937692,  -3.72873979,  -3.73810954,\n",
       "        -3.74748619,  -3.7568697 ,  -3.76626009,  -3.77565734,\n",
       "        -3.78506145,  -3.7944724 ,  -3.8038902 ,  -3.81331483,\n",
       "        -3.82274628,  -3.83218456,  -3.84162965,  -3.85108155,\n",
       "        -3.86054025,  -3.87000574,  -3.87947801,  -3.88895707,\n",
       "        -3.89844289,  -3.90793548,  -3.91743483,  -3.92694093,\n",
       "        -3.93645378,  -3.94597336,  -3.95549968,  -3.96503272,\n",
       "        -3.97457248,  -3.98411894,  -3.99367212,  -4.00323199,\n",
       "        -4.01279855,  -4.0223718 ,  -4.03195172,  -4.04153832,\n",
       "        -4.05113158,  -4.0607315 ,  -4.07033807,  -4.07995129,\n",
       "        -4.08957114,  -4.09919763,  -4.10883075,  -4.11847048,\n",
       "        -4.12811683,  -4.13776978,  -4.14742933,  -4.15709548,\n",
       "        -4.16676822,  -4.17644753,  -4.18613342,  -4.19582588,\n",
       "        -4.2055249 ,  -4.21523048,  -4.22494261,  -4.23466128,\n",
       "        -4.24438649,  -4.25411823,  -4.26385649,  -4.27360127,\n",
       "        -4.28335257,  -4.29311037,  -4.30287467,  -4.31264547,\n",
       "        -4.32242275,  -4.33220652,  -4.34199676,  -4.35179347,\n",
       "        -4.36159665,  -4.37140628,  -4.38122237,  -4.3910449 ,\n",
       "        -4.40087387,  -4.41070928,  -4.42055111,  -4.43039936,\n",
       "        -4.44025403,  -4.45011511,  -4.4599826 ,  -4.46985648,\n",
       "        -4.47973676,  -4.48962342,  -4.49951646,  -4.50941588,\n",
       "        -4.51932167,  -4.52923382,  -4.53915233,  -4.54907719,\n",
       "        -4.5590084 ,  -4.56894595,  -4.57888983,  -4.58884004,\n",
       "        -4.59879658,  -4.60875943,  -4.61872859,  -4.62870406,\n",
       "        -4.63868583,  -4.6486739 ,  -4.65866826,  -4.6686689 ,\n",
       "        -4.67867582,  -4.68868901,  -4.69870846,  -4.70873418,\n",
       "        -4.71876616,  -4.72880439,  -4.73884886,  -4.74889957,\n",
       "        -4.75895652,  -4.76901969,  -4.77908909,  -4.78916471,\n",
       "        -4.79924653,  -4.80933457,  -4.8194288 ,  -4.82952924,\n",
       "        -4.83963586,  -4.84974867,  -4.85986766,  -4.86999282,\n",
       "        -4.88012416,  -4.89026166,  -4.90040531,  -4.91055512,\n",
       "        -4.92071108,  -4.93087318,  -4.94104142,  -4.9512158 ,\n",
       "        -4.9613963 ,  -4.97158292,  -4.98177566,  -4.99197451,\n",
       "        -5.00217946,  -5.01239052,  -5.02260768,  -5.03283092,\n",
       "        -5.04306026,  -5.05329567,  -5.06353716,  -5.07378472,\n",
       "        -5.08403834,  -5.09429803,  -5.10456377,  -5.11483556,\n",
       "        -5.1251134 ,  -5.13539727,  -5.14568719,  -5.15598313,\n",
       "        -5.1662851 ,  -5.17659309,  -5.18690709,  -5.19722711,\n",
       "        -5.20755313,  -5.21788515,  -5.22822316,  -5.23856717,\n",
       "        -5.24891716,  -5.25927314,  -5.26963509,  -5.28000301,\n",
       "        -5.2903769 ,  -5.30075675,  -5.31114255,  -5.32153431,\n",
       "        -5.33193201,  -5.34233566,  -5.35274525,  -5.36316076,\n",
       "        -5.37358221,  -5.38400958,  -5.39444286,  -5.40488206,\n",
       "        -5.41532717,  -5.42577818,  -5.4362351 ,  -5.4466979 ,\n",
       "        -5.4571666 ,  -5.46764118,  -5.47812165,  -5.48860798,\n",
       "        -5.49910019,  -5.50959827,  -5.52010221,  -5.53061201,\n",
       "        -5.54112766,  -5.55164915,  -5.5621765 ,  -5.57270968,\n",
       "        -5.58324869,  -5.59379354,  -5.60434421,  -5.6149007 ,\n",
       "        -5.625463  ,  -5.63603112,  -5.64660505,  -5.65718478,\n",
       "        -5.66777031,  -5.67836163,  -5.68895874,  -5.69956163,\n",
       "        -5.71017031,  -5.72078476,  -5.73140498,  -5.74203097,\n",
       "        -5.75266272,  -5.76330023,  -5.7739435 ,  -5.78459251,\n",
       "        -5.79524727,  -5.80590777,  -5.81657401,  -5.82724597,\n",
       "        -5.83792367,  -5.84860709,  -5.85929622,  -5.86999108,\n",
       "        -5.88069164,  -5.89139791,  -5.90210988,  -5.91282754,\n",
       "        -5.9235509 ,  -5.93427995,  -5.94501468,  -5.9557551 ,\n",
       "        -5.96650119,  -5.97725295,  -5.98801038,  -5.99877347,\n",
       "        -6.00954222,  -6.02031663,  -6.03109668,  -6.04188239,\n",
       "        -6.05267373,  -6.06347072,  -6.07427333,  -6.08508158,\n",
       "        -6.09589545,  -6.10671495,  -6.11754006,  -6.12837079,\n",
       "        -6.13920712,  -6.15004906,  -6.16089661,  -6.17174974,\n",
       "        -6.18260848,  -6.1934728 ,  -6.2043427 ,  -6.21521819,\n",
       "        -6.22609925,  -6.23698588,  -6.24787809,  -6.25877585,\n",
       "        -6.26967918,  -6.28058807,  -6.29150251,  -6.30242249,\n",
       "        -6.31334802,  -6.32427909,  -6.3352157 ,  -6.34615784,\n",
       "        -6.35710551,  -6.3680587 ,  -6.37901742,  -6.38998165,\n",
       "        -6.4009514 ,  -6.41192665,  -6.42290741,  -6.43389367,\n",
       "        -6.44488543,  -6.45588268,  -6.46688542,  -6.47789364,\n",
       "        -6.48890735,  -6.49992654,  -6.5109512 ,  -6.52198133,\n",
       "        -6.53301692,  -6.54405798,  -6.5551045 ,  -6.56615647,\n",
       "        -6.5772139 ,  -6.58827677,  -6.59934509,  -6.61041884,\n",
       "        -6.62149803,  -6.63258266,  -6.64367271,  -6.65476818,\n",
       "        -6.66586908,  -6.6769754 ,  -6.68808713,  -6.69920427,\n",
       "        -6.71032681,  -6.72145476,  -6.7325881 ,  -6.74372684,\n",
       "        -6.75487097,  -6.76602049,  -6.7771754 ,  -6.78833568,\n",
       "        -6.79950134,  -6.81067237,  -6.82184878,  -6.83303055,\n",
       "        -6.84421768,  -6.85541016,  -6.86660801,  -6.8778112 ,\n",
       "        -6.88901974,  -6.90023363,  -6.91145285,  -6.92267742,\n",
       "        -6.93390731,  -6.94514254,  -6.95638309,  -6.96762896,\n",
       "        -6.97888015,  -6.99013666,  -7.00139848,  -7.01266561,\n",
       "        -7.02393804,  -7.03521577,  -7.04649881,  -7.05778713,\n",
       "        -7.06908075,  -7.08037965,  -7.09168383,  -7.1029933 ,\n",
       "        -7.11430804,  -7.12562806,  -7.13695335,  -7.1482839 ,\n",
       "        -7.15961971,  -7.17096079,  -7.18230712,  -7.1936587 ,\n",
       "        -7.20501553,  -7.21637761,  -7.22774493,  -7.23911748,\n",
       "        -7.25049528,  -7.2618783 ,  -7.27326655,  -7.28466003,\n",
       "        -7.29605873,  -7.30746265,  -7.31887178,  -7.33028613,\n",
       "        -7.34170568,  -7.35313044,  -7.3645604 ,  -7.37599556,\n",
       "        -7.38743591,  -7.39888145,  -7.41033218,  -7.4217881 ,\n",
       "        -7.4332492 ,  -7.44471547,  -7.45618693,  -7.46766355,\n",
       "        -7.47914534,  -7.4906323 ,  -7.50212441,  -7.51362169,\n",
       "        -7.52512412,  -7.53663171,  -7.54814444,  -7.55966232,\n",
       "        -7.57118534,  -7.5827135 ,  -7.59424679,  -7.60578522,\n",
       "        -7.61732877,  -7.62887745,  -7.64043126,  -7.65199018,\n",
       "        -7.66355423,  -7.67512338,  -7.68669764,  -7.69827701,\n",
       "        -7.70986149,  -7.72145106,  -7.73304574,  -7.7446455 ,\n",
       "        -7.75625036,  -7.7678603 ,  -7.77947533,  -7.79109544,\n",
       "        -7.80272063,  -7.8143509 ,  -7.82598623,  -7.83762664,\n",
       "        -7.84927211,  -7.86092265,  -7.87257824,  -7.88423889,\n",
       "        -7.89590459,  -7.90757535,  -7.91925115,  -7.93093199,\n",
       "        -7.94261788,  -7.9543088 ,  -7.96600476,  -7.97770575,\n",
       "        -7.98941177,  -8.00112282,  -8.01283889,  -8.02455997,\n",
       "        -8.03628608,  -8.0480172 ,  -8.05975333,  -8.07149446,\n",
       "        -8.0832406 ,  -8.09499174,  -8.10674789,  -8.11850902,\n",
       "        -8.13027515,  -8.14204627,  -8.15382237,  -8.16560346,\n",
       "        -8.17738953,  -8.18918057,  -8.2009766 ,  -8.21277759,\n",
       "        -8.22458355,  -8.23639447,  -8.24821036,  -8.26003121,\n",
       "        -8.27185702,  -8.28368778,  -8.29552349,  -8.30736415,\n",
       "        -8.31920975,  -8.3310603 ,  -8.34291579,  -8.35477621,\n",
       "        -8.36664156,  -8.37851185,  -8.39038706,  -8.4022672 ,\n",
       "        -8.41415226,  -8.42604224,  -8.43793714,  -8.44983695,\n",
       "        -8.46174167,  -8.4736513 ,  -8.48556583,  -8.49748526,\n",
       "        -8.50940959,  -8.52133882,  -8.53327295,  -8.54521196,\n",
       "        -8.55715586,  -8.56910464,  -8.58105831,  -8.59301686,\n",
       "        -8.60498028,  -8.61694858,  -8.62892174,  -8.64089978,\n",
       "        -8.65288268,  -8.66487044,  -8.67686307,  -8.68886054,\n",
       "        -8.70086288,  -8.71287006,  -8.7248821 ,  -8.73689897,\n",
       "        -8.7489207 ,  -8.76094726,  -8.77297866,  -8.78501489,\n",
       "        -8.79705596,  -8.80910185,  -8.82115257,  -8.83320812,\n",
       "        -8.84526849,  -8.85733367,  -8.86940367,  -8.88147848,\n",
       "        -8.89355811,  -8.90564254,  -8.91773177,  -8.92982581,\n",
       "        -8.94192465,  -8.95402828,  -8.96613671,  -8.97824993,\n",
       "        -8.99036793,  -9.00249073,  -9.0146183 ,  -9.02675066,\n",
       "        -9.03888779,  -9.0510297 ,  -9.06317639,  -9.07532784,\n",
       "        -9.08748406,  -9.09964504,  -9.11181079,  -9.1239813 ,\n",
       "        -9.13615656,  -9.14833658,  -9.16052135,  -9.17271086,\n",
       "        -9.18490513,  -9.19710414,  -9.20930788,  -9.22151637,\n",
       "        -9.23372959,  -9.24594755,  -9.25817024,  -9.27039765,\n",
       "        -9.28262979,  -9.29486666,  -9.30710824,  -9.31935454,\n",
       "        -9.33160556,  -9.34386129,  -9.35612173,  -9.36838687,\n",
       "        -9.38065672,  -9.39293128,  -9.40521053,  -9.41749448,\n",
       "        -9.42978313,  -9.44207647,  -9.4543745 ,  -9.46667721,\n",
       "        -9.47898461,  -9.49129669,  -9.50361346,  -9.5159349 ,\n",
       "        -9.52826101,  -9.5405918 ,  -9.55292725,  -9.56526737,\n",
       "        -9.57761216,  -9.58996161,  -9.60231572,  -9.61467448,\n",
       "        -9.6270379 ,  -9.63940598,  -9.6517787 ,  -9.66415607,\n",
       "        -9.67653808,  -9.68892474,  -9.70131604,  -9.71371197,\n",
       "        -9.72611254,  -9.73851774,  -9.75092757,  -9.76334203,\n",
       "        -9.77576112,  -9.78818482,  -9.80061315,  -9.8130461 ,\n",
       "        -9.82548366,  -9.83792583,  -9.85037262,  -9.86282401,\n",
       "        -9.87528001,  -9.88774061,  -9.90020581,  -9.91267561,\n",
       "        -9.92515001,  -9.937629  ,  -9.95011259,  -9.96260076,\n",
       "        -9.97509352,  -9.98759086, -10.00009278, -10.01259929,\n",
       "       -10.02511037, -10.03762602, -10.05014625, -10.06267105,\n",
       "       -10.07520042, -10.08773435, -10.10027284, -10.1128159 ,\n",
       "       -10.12536351, -10.13791568, -10.1504724 , -10.16303368,\n",
       "       -10.1755995 , -10.18816987, -10.20074478, -10.21332424,\n",
       "       -10.22590824, -10.23849677, -10.25108984, -10.26368744,\n",
       "       -10.27628957, -10.28889623, -10.30150741, -10.31412312,\n",
       "       -10.32674335, -10.3393681 , -10.35199737, -10.36463115,\n",
       "       -10.37726944, -10.38991224, -10.40255955, -10.41521136,\n",
       "       -10.42786768, -10.4405285 , -10.45319381, -10.46586363,\n",
       "       -10.47853793, -10.49121673, -10.50390002, -10.5165878 ,\n",
       "       -10.52928006, -10.5419768 , -10.55467802, -10.56738372,\n",
       "       -10.5800939 , -10.59280855, -10.60552768, -10.61825127,\n",
       "       -10.63097933, -10.64371185, -10.65644884, -10.66919029,\n",
       "       -10.68193619, -10.69468655, -10.70744137, -10.72020064,\n",
       "       -10.73296435, -10.74573252, -10.75850513, -10.77128218,\n",
       "       -10.78406367, -10.7968496 , -10.80963997, -10.82243477,\n",
       "       -10.83523401, -10.84803767, -10.86084576, -10.87365828,\n",
       "       -10.88647522, -10.89929658, -10.91212236, -10.92495256,\n",
       "       -10.93778717, -10.9506262 , -10.96346963, -10.97631748,\n",
       "       -10.98916973, -11.00202638, -11.01488744, -11.02775289,\n",
       "       -11.04062275, -11.053497  , -11.06637564, -11.07925867,\n",
       "       -11.09214609, -11.1050379 , -11.1179341 , -11.13083468,\n",
       "       -11.14373963, -11.15664897, -11.16956269, -11.18248077,\n",
       "       -11.19540323, -11.20833006, -11.22126126, -11.23419683,\n",
       "       -11.24713676, -11.26008105, -11.2730297 , -11.28598271,\n",
       "       -11.29894007, -11.31190179, -11.32486786, -11.33783828,\n",
       "       -11.35081304, -11.36379215, -11.37677561, -11.3897634 ,\n",
       "       -11.40275554, -11.41575201, -11.42875282, -11.44175796,\n",
       "       -11.45476743, -11.46778123, -11.48079936, -11.49382181,\n",
       "       -11.50684859, -11.51987968, -11.5329151 , -11.54595483,\n",
       "       -11.55899888, -11.57204724, -11.58509991, -11.59815689,\n",
       "       -11.61121817, -11.62428376, -11.63735366, -11.65042785,\n",
       "       -11.66350634, -11.67658913, -11.68967622, -11.70276759,\n",
       "       -11.71586326, -11.72896322, -11.74206746, -11.75517599,\n",
       "       -11.7682888 , -11.78140589, -11.79452726, -11.80765291,\n",
       "       -11.82078283, -11.83391703, -11.84705549, -11.86019823,\n",
       "       -11.87334523, -11.8864965 , -11.89965203, -11.91281182,\n",
       "       -11.92597587, -11.93914418, -11.95231675, -11.96549356,\n",
       "       -11.97867463, -11.99185995, -12.00504952, -12.01824333,\n",
       "       -12.03144138, -12.04464368, -12.05785022, -12.07106099,\n",
       "       -12.084276  , -12.09749525, -12.11071873, -12.12394643,\n",
       "       -12.13717837, -12.15041453, -12.16365492, -12.17689953,\n",
       "       -12.19014836, -12.20340141, -12.21665867, -12.22992016,\n",
       "       -12.24318585, -12.25645576, -12.26972987, -12.28300819,\n",
       "       -12.29629072, -12.30957745, -12.32286839, -12.33616352,\n",
       "       -12.34946285, -12.36276638, -12.3760741 , -12.38938602,\n",
       "       -12.40270212, -12.41602242, -12.4293469 , -12.44267557,\n",
       "       -12.45600841, -12.46934544, -12.48268665, -12.49603204,\n",
       "       -12.50938161, -12.52273534, -12.53609325, -12.54945533,\n",
       "       -12.56282158, -12.57619199, -12.58956657, -12.60294532])"
      ]
     },
     "execution_count": 4,
     "metadata": {},
     "output_type": "execute_result"
    }
   ],
   "source": [
    "result"
   ]
  },
  {
   "cell_type": "markdown",
   "metadata": {},
   "source": [
    "### Absolute values, exponents and logarithms\n",
    "\n",
    "Just as NumPy understands Python's built-in arithmetic operators, it also understands Python's built-in absolute value function:"
   ]
  },
  {
   "cell_type": "code",
   "execution_count": null,
   "metadata": {},
   "outputs": [],
   "source": [
    "x = np.linspace(-10,10,10)\n",
    "\n",
    "x"
   ]
  },
  {
   "cell_type": "code",
   "execution_count": null,
   "metadata": {},
   "outputs": [],
   "source": [
    "abs(x) #lo pasa a valor absoluto todo"
   ]
  },
  {
   "cell_type": "markdown",
   "metadata": {},
   "source": [
    "Another common type of operation available in a NumPy functions are the exponentials:"
   ]
  },
  {
   "cell_type": "code",
   "execution_count": null,
   "metadata": {},
   "outputs": [],
   "source": [
    "x = np.linspace(1,10,10)\n",
    "\n",
    "print(\"x =\", x)\n",
    "print(\"e^x   =\", np.exp(x))\n",
    "print(\"2^x   =\", np.exp2(x))\n",
    "print(\"3^x   =\", np.power(3, x))"
   ]
  },
  {
   "cell_type": "markdown",
   "metadata": {},
   "source": [
    "Similarly we can work with logarithms:"
   ]
  },
  {
   "cell_type": "code",
   "execution_count": null,
   "metadata": {},
   "outputs": [],
   "source": [
    "\n",
    "print(\"x        =\", x)\n",
    "print(\"ln(x)    =\", np.log(x))\n",
    "print(\"log2(x)  =\", np.log2(x))\n",
    "print(\"log10(x) =\", np.log10(x))"
   ]
  },
  {
   "cell_type": "markdown",
   "metadata": {},
   "source": [
    "### Trigonometry"
   ]
  },
  {
   "cell_type": "markdown",
   "metadata": {},
   "source": [
    "NumPy provides a large number of useful trigonometric functions that are very useful for the data scientist. Lets start by defining an array of angles:"
   ]
  },
  {
   "cell_type": "code",
   "execution_count": 5,
   "metadata": {},
   "outputs": [],
   "source": [
    "angles = np.linspace(0, 2*np.pi, 10)"
   ]
  },
  {
   "cell_type": "code",
   "execution_count": 6,
   "metadata": {},
   "outputs": [
    {
     "data": {
      "text/plain": [
       "array([0.        , 0.6981317 , 1.3962634 , 2.0943951 , 2.7925268 ,\n",
       "       3.4906585 , 4.1887902 , 4.88692191, 5.58505361, 6.28318531])"
      ]
     },
     "execution_count": 6,
     "metadata": {},
     "output_type": "execute_result"
    }
   ],
   "source": [
    "angles"
   ]
  },
  {
   "cell_type": "markdown",
   "metadata": {},
   "source": [
    "Next, we compute trigonometric functions on those:\n",
    "    "
   ]
  },
  {
   "cell_type": "code",
   "execution_count": null,
   "metadata": {},
   "outputs": [],
   "source": [
    "print(\"angles      = \", angles)\n",
    "print(\"sin(angles) = \", np.sin(angles))\n",
    "print(\"cos(angles) = \", np.cos(angles))\n",
    "print(\"tan(angles) = \", np.tan(angles))"
   ]
  },
  {
   "cell_type": "markdown",
   "metadata": {},
   "source": [
    "Inverse trigonometric functions are easily applicable and can be nested:"
   ]
  },
  {
   "cell_type": "code",
   "execution_count": null,
   "metadata": {},
   "outputs": [],
   "source": [
    "np.arcsin(np.sin(angles))\n"
   ]
  },
  {
   "cell_type": "code",
   "execution_count": null,
   "metadata": {},
   "outputs": [],
   "source": [
    "np.arccos(np.cos(angles))"
   ]
  },
  {
   "cell_type": "markdown",
   "metadata": {},
   "source": [
    "### Advanced functions"
   ]
  },
  {
   "cell_type": "markdown",
   "metadata": {},
   "source": [
    "NumPy has many more functions available, including hyperbolic trig functions, bitwise arithmetic, comparison operators, conversions from radians to degrees, rounding and remainders, and much more. A look through the NumPy documentation reveals a lot of interesting functionality.\n",
    "\n",
    "Another excellent source for more specialized and obscure ufuncs is the submodule scipy.special. If you want to compute some obscure mathematical function on your data, chances are it is implemented in *scipy.special*. "
   ]
  },
  {
   "cell_type": "code",
   "execution_count": 7,
   "metadata": {},
   "outputs": [
    {
     "name": "stdout",
     "output_type": "stream",
     "text": [
      "gamma(x)     = [1.0000e+00 1.0000e+00 2.0000e+00 6.0000e+00 2.4000e+01 1.2000e+02\n",
      " 7.2000e+02 5.0400e+03 4.0320e+04 3.6288e+05]\n",
      "ln|gamma(x)| = [ 0.          0.          0.69314718  1.79175947  3.17805383  4.78749174\n",
      "  6.57925121  8.52516136 10.6046029  12.80182748]\n",
      "beta(x, 2)   = [0.5        0.16666667 0.08333333 0.05       0.03333333 0.02380952\n",
      " 0.01785714 0.01388889 0.01111111 0.00909091]\n"
     ]
    }
   ],
   "source": [
    "import scipy as sp #IMPORTANTE scipy contiene muchas funciones y operaciones científicas\n",
    "\n",
    "from scipy import special\n",
    "\n",
    "# Gamma functions (generalized factorials) and related functions\n",
    "x = np.linspace(1,10,10)\n",
    "print(\"gamma(x)     =\", special.gamma(x))\n",
    "print(\"ln|gamma(x)| =\", special.gammaln(x))\n",
    "print(\"beta(x, 2)   =\", special.beta(x, 2))"
   ]
  },
  {
   "cell_type": "code",
   "execution_count": 8,
   "metadata": {},
   "outputs": [
    {
     "name": "stdout",
     "output_type": "stream",
     "text": [
      "erf(x)  = [0.84270079 0.99532227 0.99997791 0.99999998 1.         1.\n",
      " 1.         1.         1.         1.        ]\n",
      "erfc(x) = [1.57299207e-01 4.67773498e-03 2.20904970e-05 1.54172579e-08\n",
      " 1.53745979e-12 2.15197367e-17 4.18382561e-23 1.12242972e-29\n",
      " 4.13703175e-37 2.08848758e-45]\n",
      "erfinv(x) = [inf inf inf inf inf inf inf inf inf inf]\n"
     ]
    }
   ],
   "source": [
    "# Error function (integral of Gaussian)\n",
    "# its complement, and its inverse\n",
    "\n",
    "print(\"erf(x)  =\", special.erf(x))\n",
    "print(\"erfc(x) =\", special.erfc(x))\n",
    "print(\"erfinv(x) =\", special.erfinv(x))"
   ]
  },
  {
   "cell_type": "markdown",
   "metadata": {},
   "source": [
    "We can also generate sinusoid and analyze it using fast Fourier transformation (FFT): "
   ]
  },
  {
   "cell_type": "code",
   "execution_count": 10,
   "metadata": {},
   "outputs": [
    {
     "data": {
      "image/png": "[encoded data removed]",
      "text/plain": [
       "<Figure size 432x288 with 1 Axes>"
      ]
     },
     "metadata": {},
     "output_type": "display_data"
    }
   ],
   "source": [
    "import matplotlib.pyplot as plotter\n",
    "\n",
    "from scipy.fftpack import fft\n",
    "\n",
    "# Number of sample points\n",
    "N = 100\n",
    "# sample spacing\n",
    "T = 1.0 / 1000.0\n",
    "\n",
    "#frequency \n",
    "\n",
    "F = 200.0 #We know this #cambiar a 20.0 y a 500.0 #cambia la función #ver para el examen del viernes\n",
    "\n",
    "x = np.linspace(0.0, N*T, N)\n",
    "y = 0.5*(1+np.sin(F * 2.0*np.pi*x)) #la y es la señal\n",
    "\n",
    "plotter.plot(x, y)\n",
    "plotter.xlabel('x')\n",
    "plotter.ylabel('y')\n",
    "plotter.axis('tight')\n",
    "# plt.grid()\n",
    "plotter.show()   #The frequency is the distance between two peaks"
   ]
  },
  {
   "cell_type": "markdown",
   "metadata": {},
   "source": [
    "Now we perform fft and analyze the signal spectrum in frequency domain:"
   ]
  },
  {
   "cell_type": "code",
   "execution_count": 11,
   "metadata": {},
   "outputs": [
    {
     "data": {
      "text/plain": [
       "Text(0,0.5,'power(signal)')"
      ]
     },
     "execution_count": 11,
     "metadata": {},
     "output_type": "execute_result"
    },
    {
     "data": {
      "image/png": "[encoded data removed]",
      "text/plain": [
       "<Figure size 432x288 with 1 Axes>"
      ]
     },
     "metadata": {},
     "output_type": "display_data"
    }
   ],
   "source": [
    "yf = fft(y) #fft proviene de la biblioteca scify o algo así que hemos visto antes\n",
    "#ahora queremos ver la representación de la potencia de la señal frente a la frecuencia\n",
    "#Vemos el pico a los 200, tal y como lo habíamos definido, y se complementa con la imagen anterior (se levanta)\n",
    "xf = np.linspace(0.0, 1.0/(2.0*T), N//2)\n",
    "plotter.plot(xf, 2.0/N * np.abs(yf[0:N//2]))\n",
    "plotter.xlabel('freq')\n",
    "plotter.ylabel('power(signal)')"
   ]
  },
  {
   "cell_type": "markdown",
   "metadata": {},
   "source": [
    "### Useful  Features"
   ]
  },
  {
   "cell_type": "markdown",
   "metadata": {},
   "source": [
    "For binary functions, there are some interesting aggregates that can be computed directly from the object. For example, if we'd like to reduce an array with a particular operation, we can use the reduce method of any function. A reduce repeatedly applies a given operation to the elements of an array until only a single result remains.\n",
    "\n",
    "For example, calling reduce on the add returns the sum of all elements in the array:"
   ]
  },
  {
   "cell_type": "code",
   "execution_count": null,
   "metadata": {},
   "outputs": [],
   "source": [
    "x = np.linspace(0, 1, 10)\n",
    "\n",
    "np.add.reduce(x)"
   ]
  },
  {
   "cell_type": "markdown",
   "metadata": {},
   "source": [
    "Similarly we can multiply all elements in the vector:"
   ]
  },
  {
   "cell_type": "code",
   "execution_count": null,
   "metadata": {},
   "outputs": [],
   "source": [
    "x = np.linspace(1, 10, 10)\n",
    "np.multiply.reduce(x)"
   ]
  },
  {
   "cell_type": "markdown",
   "metadata": {},
   "source": [
    "Finally, any function can compute the output of all pairs of two different inputs using the outer method. This allows you, in one line, to do things like create a multiplication table:"
   ]
  },
  {
   "cell_type": "code",
   "execution_count": null,
   "metadata": {},
   "outputs": [],
   "source": [
    "x = np.arange(1, 6)\n",
    "\n",
    "x"
   ]
  },
  {
   "cell_type": "code",
   "execution_count": null,
   "metadata": {},
   "outputs": [],
   "source": [
    "np.multiply.outer(x, x)"
   ]
  },
  {
   "cell_type": "markdown",
   "metadata": {},
   "source": [
    "### Comparisons, Masks, and Boolean Logic"
   ]
  },
  {
   "cell_type": "markdown",
   "metadata": {},
   "source": [
    "We will create Boolean masks to examine and manipulate values within NumPy matrices.\n",
    "Masking comes up when you want to extract, modify, count, or otherwise manipulate values in an array based on some criterion: for example, you might wish to count all values greater than a certain value, or perhaps remove all outliers that are above some threshold.\n"
   ]
  },
  {
   "cell_type": "markdown",
   "metadata": {},
   "source": [
    "NumPy implements comparison operators such as ``<`` (less than) and ``>`` (greater than) as functions.\n",
    "The result of these comparison operators is always an array with a Boolean data type.\n",
    "All six of the standard comparison operations are available:"
   ]
  },
  {
   "cell_type": "code",
   "execution_count": null,
   "metadata": {},
   "outputs": [],
   "source": [
    "x = np.array([1, 2, 3, 4, 5])"
   ]
  },
  {
   "cell_type": "code",
   "execution_count": null,
   "metadata": {},
   "outputs": [],
   "source": [
    "x < 3  # less than"
   ]
  },
  {
   "cell_type": "code",
   "execution_count": null,
   "metadata": {},
   "outputs": [],
   "source": [
    "x > 3  # greater than"
   ]
  },
  {
   "cell_type": "code",
   "execution_count": null,
   "metadata": {},
   "outputs": [],
   "source": [
    "x <= 3  # less than or equal"
   ]
  },
  {
   "cell_type": "code",
   "execution_count": null,
   "metadata": {},
   "outputs": [],
   "source": [
    "x >= 3 # greater or equal"
   ]
  },
  {
   "cell_type": "code",
   "execution_count": null,
   "metadata": {},
   "outputs": [],
   "source": [
    "x != 3  # not equal"
   ]
  },
  {
   "cell_type": "code",
   "execution_count": null,
   "metadata": {},
   "outputs": [],
   "source": [
    "x == 3  # equal"
   ]
  },
  {
   "cell_type": "markdown",
   "metadata": {},
   "source": [
    "It is also possible to do an element-wise comparison of two arrays, and to include compound expressions:"
   ]
  },
  {
   "cell_type": "code",
   "execution_count": null,
   "metadata": {},
   "outputs": [],
   "source": [
    "(x ** 2) == (x * 2)"
   ]
  },
  {
   "cell_type": "markdown",
   "metadata": {},
   "source": [
    "As in the case of arithmetic operators, the comparison operators are implemented as functions in NumPy.\n",
    "    A summary of the comparison operators and their equivalent ufunc is shown here:\n",
    "\n",
    "| Operator\t    | Equivalent ufunc    || Operator\t   | Equivalent ufunc    |\n",
    "|---------------|---------------------||---------------|---------------------|\n",
    "|``==``         |``np.equal``         ||``!=``         |``np.not_equal``     |\n",
    "|``<``          |``np.less``          ||``<=``         |``np.less_equal``    |\n",
    "|``>``          |``np.greater``       ||``>=``         |``np.greater_equal`` |"
   ]
  },
  {
   "cell_type": "markdown",
   "metadata": {},
   "source": [
    "Just as in the case of arithmetic operators, these will work on  multidimensional matrices.\n",
    "Here is a two-dimensional example:"
   ]
  },
  {
   "cell_type": "code",
   "execution_count": null,
   "metadata": {},
   "outputs": [],
   "source": [
    "\n",
    "x = np.random.RandomState(0).randint(10, size=(3, 3))\n",
    "x"
   ]
  },
  {
   "cell_type": "code",
   "execution_count": null,
   "metadata": {},
   "outputs": [],
   "source": [
    "x > 0"
   ]
  },
  {
   "cell_type": "markdown",
   "metadata": {},
   "source": [
    "Given a Boolean array, there are a host of useful operations you can do.\n",
    "We'll work with ``x``, the two-dimensional array we have just created."
   ]
  },
  {
   "cell_type": "code",
   "execution_count": null,
   "metadata": {},
   "outputs": [],
   "source": [
    "print(x)"
   ]
  },
  {
   "cell_type": "markdown",
   "metadata": {},
   "source": [
    "\n",
    "\n",
    "To count the number of ``True`` entries in a Boolean array, ``np.count_nonzero`` is useful:"
   ]
  },
  {
   "cell_type": "code",
   "execution_count": null,
   "metadata": {},
   "outputs": [],
   "source": [
    "# how many values more than 5?\n",
    "np.count_nonzero(x > 5)"
   ]
  },
  {
   "cell_type": "markdown",
   "metadata": {},
   "source": [
    "\n",
    "Another way to get at this information is to use ``np.sum``; in this case, ``False`` is interpreted as ``0``, and ``True`` is interpreted as ``1``:"
   ]
  },
  {
   "cell_type": "code",
   "execution_count": null,
   "metadata": {},
   "outputs": [],
   "source": [
    "np.sum(x > 5)"
   ]
  },
  {
   "cell_type": "code",
   "execution_count": null,
   "metadata": {},
   "outputs": [],
   "source": [
    "# how many values less than 6 in each row?\n",
    "np.sum(x > 5, axis=1)"
   ]
  },
  {
   "cell_type": "markdown",
   "metadata": {},
   "source": [
    "\n",
    "\n",
    "If we're interested in quickly checking whether any or all the values are true, we can use (you guessed it) ``np.any`` or ``np.all``:"
   ]
  },
  {
   "cell_type": "code",
   "execution_count": null,
   "metadata": {},
   "outputs": [],
   "source": [
    "np.any(x < 5)"
   ]
  },
  {
   "cell_type": "code",
   "execution_count": null,
   "metadata": {},
   "outputs": [],
   "source": [
    "# are all values equal to 6?\n",
    "np.any(x == 5)"
   ]
  },
  {
   "cell_type": "code",
   "execution_count": null,
   "metadata": {},
   "outputs": [],
   "source": [
    "# are all values in each row less than 8?\n",
    "np.all(x <= 5, axis=1)"
   ]
  },
  {
   "cell_type": "markdown",
   "metadata": {},
   "source": [
    "### Boolean operators\n",
    "\n",
    "\n",
    "\n",
    "Python's *bitwise logic operators*, are ``&``, ``|``, ``^``, and ``~``.\n",
    "Like with the standard arithmetic operators, NumPy overloads these as functions which work element-wise on (usually Boolean) matrices.\n",
    "\n",
    "For example, we can address this sort of compound question as follows:"
   ]
  },
  {
   "cell_type": "code",
   "execution_count": null,
   "metadata": {},
   "outputs": [],
   "source": [
    "print(x)\n",
    "\n",
    "np.sum((x > 1) & (x < 5))"
   ]
  },
  {
   "cell_type": "markdown",
   "metadata": {},
   "source": [
    "Alternatively:"
   ]
  },
  {
   "cell_type": "code",
   "execution_count": null,
   "metadata": {},
   "outputs": [],
   "source": [
    "np.sum(~( (x <= 1) | (x >= 5) ))"
   ]
  },
  {
   "cell_type": "markdown",
   "metadata": {},
   "source": [
    "Combining comparison operators and Boolean operators on arrays can lead to a wide range of efficient logical operations.\n",
    "\n",
    "The following table summarizes the bitwise Boolean operators and their equivalent functions:"
   ]
  },
  {
   "cell_type": "markdown",
   "metadata": {},
   "source": [
    "| Operator\t    | Equivalent ufunc    || Operator\t    | Equivalent ufunc    |\n",
    "|---------------|---------------------||---------------|---------------------|\n",
    "|``&``          |``np.bitwise_and``   ||&#124;         |``np.bitwise_or``    |\n",
    "|``^``          |``np.bitwise_xor``   ||``~``          |``np.bitwise_not``   |"
   ]
  },
  {
   "cell_type": "markdown",
   "metadata": {},
   "source": [
    "A very powerful pattern is to use Boolean arrays as masks, to select particular subsets of the data themselves.\n",
    "Returning to our ``x`` array from before, suppose we want an array of all values in the matrix that are less than, say, 5:"
   ]
  },
  {
   "cell_type": "code",
   "execution_count": null,
   "metadata": {},
   "outputs": [],
   "source": [
    "x"
   ]
  },
  {
   "cell_type": "code",
   "execution_count": null,
   "metadata": {},
   "outputs": [],
   "source": [
    "x < 5"
   ]
  },
  {
   "cell_type": "markdown",
   "metadata": {},
   "source": [
    "Now to *select* these values from the array, we can simply index on this Boolean array; this is known as a *masking* operation:"
   ]
  },
  {
   "cell_type": "code",
   "execution_count": null,
   "metadata": {},
   "outputs": [],
   "source": [
    "x[x < 5]"
   ]
  },
  {
   "cell_type": "code",
   "execution_count": null,
   "metadata": {},
   "outputs": [],
   "source": [
    "x[(x > 2) & (x < 5)]"
   ]
  },
  {
   "cell_type": "markdown",
   "metadata": {},
   "source": [
    "### Learning More\n",
    "More information on universal functions (including the full list of available functions) can be found on the NumPy and SciPy documentation websites.\n"
   ]
  },
  {
   "cell_type": "code",
   "execution_count": null,
   "metadata": {},
   "outputs": [],
   "source": []
  }
 ],
 "metadata": {
  "kernelspec": {
   "display_name": "Python 3",
   "language": "python",
   "name": "python3"
  },
  "language_info": {
   "codemirror_mode": {
    "name": "ipython",
    "version": 3
   },
   "file_extension": ".py",
   "mimetype": "text/x-python",
   "name": "python",
   "nbconvert_exporter": "python",
   "pygments_lexer": "ipython3",
   "version": "3.6.5"
  }
 },
 "nbformat": 4,
 "nbformat_minor": 2
}
